{
 "cells": [
  {
   "cell_type": "code",
   "execution_count": 7,
   "metadata": {
    "collapsed": true,
    "pycharm": {
     "is_executing": false
    }
   },
   "outputs": [
    {
     "name": "stdout",
     "text": [
      "Collecting git+https://github.com/Telcrome/ai-trainer@master\n",
      "  Cloning https://github.com/Telcrome/ai-trainer (to revision master) to c:\\users\\rapha\\appdata\\local\\temp\\pip-req-build-s9cepyvb\n"
     ],
     "output_type": "stream"
    },
    {
     "name": "stderr",
     "text": [
      "  Running command git clone -q https://github.com/Telcrome/ai-trainer 'C:\\Users\\rapha\\AppData\\Local\\Temp\\pip-req-build-s9cepyvb'\n",
      "    ERROR: Command errored out with exit status 1:\n",
      "     command: 'C:\\Users\\rapha\\Desktop\\ai-trainer\\envs\\python.exe' -c 'import sys, setuptools, tokenize; sys.argv[0] = '\"'\"'C:\\\\Users\\\\rapha\\\\AppData\\\\Local\\\\Temp\\\\pip-req-build-s9cepyvb\\\\setup.py'\"'\"'; __file__='\"'\"'C:\\\\Users\\\\rapha\\\\AppData\\\\Local\\\\Temp\\\\pip-req-build-s9cepyvb\\\\setup.py'\"'\"';f=getattr(tokenize, '\"'\"'open'\"'\"', open)(__file__);code=f.read().replace('\"'\"'\\r\\n'\"'\"', '\"'\"'\\n'\"'\"');f.close();exec(compile(code, __file__, '\"'\"'exec'\"'\"'))' egg_info --egg-base 'C:\\Users\\rapha\\AppData\\Local\\Temp\\pip-req-build-s9cepyvb\\pip-egg-info'\n",
      "         cwd: C:\\Users\\rapha\\AppData\\Local\\Temp\\pip-req-build-s9cepyvb\\\n",
      "    Complete output (8 lines):\n",
      "    running egg_info\n",
      "    creating C:\\Users\\rapha\\AppData\\Local\\Temp\\pip-req-build-s9cepyvb\\pip-egg-info\\ai_trainer.egg-info\n",
      "    writing C:\\Users\\rapha\\AppData\\Local\\Temp\\pip-req-build-s9cepyvb\\pip-egg-info\\ai_trainer.egg-info\\PKG-INFO\n",
      "    writing dependency_links to C:\\Users\\rapha\\AppData\\Local\\Temp\\pip-req-build-s9cepyvb\\pip-egg-info\\ai_trainer.egg-info\\dependency_links.txt\n",
      "    writing entry points to C:\\Users\\rapha\\AppData\\Local\\Temp\\pip-req-build-s9cepyvb\\pip-egg-info\\ai_trainer.egg-info\\entry_points.txt\n",
      "    writing top-level names to C:\\Users\\rapha\\AppData\\Local\\Temp\\pip-req-build-s9cepyvb\\pip-egg-info\\ai_trainer.egg-info\\top_level.txt\n",
      "    writing manifest file 'C:\\Users\\rapha\\AppData\\Local\\Temp\\pip-req-build-s9cepyvb\\pip-egg-info\\ai_trainer.egg-info\\SOURCES.txt'\n",
      "    error: package directory 'bib' does not exist\n",
      "    ----------------------------------------\n",
      "ERROR: Command errored out with exit status 1: python setup.py egg_info Check the logs for full command output.\n"
     ],
     "output_type": "stream"
    }
   ],
   "source": [
    "!pip install git+https://github.com/Telcrome/ai-trainer@master\n",
    "from trainer.ml import Dataset\n",
    "from trainer import BinaryType, download_and_extract"
   ]
  },
  {
   "cell_type": "markdown",
   "source": [
    "## Load a dataset from an online resource\n",
    "\n",
    "A dataset can be loaded as following, using a direct path to a zipfile:"
   ],
   "metadata": {
    "collapsed": false,
    "pycharm": {
     "name": "#%% md\n"
    }
   }
  },
  {
   "cell_type": "code",
   "execution_count": 3,
   "outputs": [
    {
     "name": "stdout",
     "text": [
      "The local copy already exists: https://rwth-aachen.sciebo.de/s/1qO95mdEjhoUBMf/download at ./data\\crucial_ligament_diagnosis\n"
     ],
     "output_type": "stream"
    },
    {
     "data": {
      "text/plain": "Representation of crucial_ligament_diagnosis:\nLast saved at ./data\\crucial_ligament_diagnosis\nBinaries: 0\n{\n    \"subjects\": [\n        \"6467-8694-6747-6198-0649-5686\",\n        \"7871-9226-4338-3838-9267-0287\",\n        \"2070-7600-3444-1705-5615-9871\",\n        \"1688-2843-0792-6255-7859-7928\",\n        \"0796-5560-0671-6034-2870-5295\",\n        \"2127-8074-9460-2820-9906-4404\"\n    ],\n    \"splits\": {},\n    \"classes\": {\n        \"cruciate_ligament\": {\n            \"class_type\": \"ordinal\",\n            \"values\": [\n                \"healthy\",\n                \"partial_rupture\",\n                \"rupture\"\n            ]\n        }\n    },\n    \"structure_templates\": {\n        \"us_bone\": {\n            \"femur\": \"line\",\n            \"tibia\": \"line\"\n        }\n    }\n}"
     },
     "metadata": {},
     "output_type": "execute_result",
     "execution_count": 3
    }
   ],
   "source": [
    "ds_path = download_and_extract(\n",
    "    online_url='https://rwth-aachen.sciebo.de/s/1qO95mdEjhoUBMf/download',\n",
    "    parent_dir='./data', # Your local data folder\n",
    "    dir_name='crucial_ligament_diagnosis' # Name of the dataset\n",
    ")\n",
    "ds = Dataset.from_disk(ds_path)\n",
    "ds"
   ],
   "metadata": {
    "collapsed": false,
    "pycharm": {
     "name": "#%%\n",
     "is_executing": false
    }
   }
  },
  {
   "cell_type": "markdown",
   "source": [
    "## See whats inside the dataset \n",
    "First just visualize some content of one subject"
   ],
   "metadata": {
    "collapsed": false,
    "pycharm": {
     "name": "#%% md\n"
    }
   }
  },
  {
   "cell_type": "code",
   "execution_count": 4,
   "outputs": [],
   "source": [
    "g = ds.get_subject_gen()\n",
    "one_subject = next(g)\n",
    "videos = one_subject.get_image_stack_keys()\n",
    "first_video_name = videos[0]"
   ],
   "metadata": {
    "collapsed": false,
    "pycharm": {
     "name": "#%%\n",
     "is_executing": false
    }
   }
  },
  {
   "cell_type": "code",
   "execution_count": 5,
   "outputs": [
    {
     "data": {
      "text/plain": "<Figure size 432x288 with 2 Axes>",
      "image/png": "[encoded data removed]"
     },
     "metadata": {
      "needs_background": "light"
     },
     "output_type": "display_data"
    }
   ],
   "source": [
    "import matplotlib.pyplot as plt\n",
    "import seaborn as sns\n",
    "my_frame = 0\n",
    "segmentation_name = \"femur\"\n",
    "\n",
    "frame = one_subject.get_binary(first_video_name)[my_frame]\n",
    "\n",
    "struct_index = list(one_subject.get_binary_model(first_video_name)[\"meta_data\"][\"structures\"].keys()).index(segmentation_name)\n",
    "mask_condition = lambda x: x['binary_type'] == BinaryType.ImageMask.value and x['meta_data']['mask_of'] == first_video_name and x['meta_data']['frame_number'] == my_frame \n",
    "mask_names = one_subject.get_binary_list_filtered(mask_condition)[0]\n",
    "mask = one_subject.get_binary(mask_names)[:, :, struct_index]\n",
    "\n",
    "plt.subplot(1, 2, 1)\n",
    "plt.imshow(frame)\n",
    "plt.subplot(1, 2, 2)\n",
    "plt.imshow(mask)\n",
    "plt.show()"
   ],
   "metadata": {
    "collapsed": false,
    "pycharm": {
     "name": "#%%\n",
     "is_executing": false
    }
   }
  },
  {
   "cell_type": "markdown",
   "source": [
    "## Iterate through the dataset\n",
    "\n",
    "If you want to export some information of the dataset\n",
    "you can iterate through the subjects in deterministic order\n",
    "as following:"
   ],
   "metadata": {
    "collapsed": false,
    "pycharm": {
     "name": "#%% md\n"
    }
   }
  },
  {
   "cell_type": "code",
   "execution_count": 6,
   "outputs": [
    {
     "name": "stdout",
     "text": [
      "6467-8694-6747-6198-0649-5686\n",
      "7871-9226-4338-3838-9267-0287\n",
      "2070-7600-3444-1705-5615-9871\n",
      "1688-2843-0792-6255-7859-7928\n",
      "0796-5560-0671-6034-2870-5295\n",
      "2127-8074-9460-2820-9906-4404\n"
     ],
     "output_type": "stream"
    }
   ],
   "source": [
    "# Iterate through every subject, use this e.g. for exporting\n",
    "g = ds.get_subject_gen()\n",
    "for s in g:\n",
    "    print(s.name)"
   ],
   "metadata": {
    "collapsed": false,
    "pycharm": {
     "name": "#%%\n",
     "is_executing": false
    }
   }
  },
  {
   "cell_type": "code",
   "execution_count": null,
   "outputs": [],
   "source": [
    "\n"
   ],
   "metadata": {
    "collapsed": false,
    "pycharm": {
     "name": "#%%\n"
    }
   }
  }
 ],
 "metadata": {
  "kernelspec": {
   "display_name": "Python 3",
   "language": "python",
   "name": "python3"
  },
  "language_info": {
   "codemirror_mode": {
    "name": "ipython",
    "version": 2
   },
   "file_extension": ".py",
   "mimetype": "text/x-python",
   "name": "python",
   "nbconvert_exporter": "python",
   "pygments_lexer": "ipython2",
   "version": "2.7.6"
  },
  "pycharm": {
   "stem_cell": {
    "cell_type": "raw",
    "source": [],
    "metadata": {
     "collapsed": false
    }
   }
  }
 },
 "nbformat": 4,
 "nbformat_minor": 0
}